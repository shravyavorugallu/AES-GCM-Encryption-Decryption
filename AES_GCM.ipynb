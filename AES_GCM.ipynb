{
  "nbformat": 4,
  "nbformat_minor": 0,
  "metadata": {
    "colab": {
      "provenance": []
    },
    "kernelspec": {
      "name": "python3",
      "display_name": "Python 3"
    },
    "language_info": {
      "name": "python"
    }
  },
  "cells": [
    {
      "cell_type": "markdown",
      "source": [
        "I'll create a Python script implementing the AES block cipher in GCM (Galois/Counter Mode). AES-GCM is a widely used encryption mode because it provides both confidentiality and integrity, making it suitable for secure communication. I'll include comments explaining each part of the code, and acknowledgments\n",
        "\n",
        "Description\n",
        "This Python script uses the AES block cipher in GCM mode to encrypt and decrypt an English text string. AES-GCM is an authenticated encryption mode, meaning it ensures both data confidentiality and integrity. The script will demonstrate both encryption and decryption of a sample text. It uses the PyCryptodome library, which simplifies AES-GCM implementation and management of cryptographic keys and nonces.\n",
        "\n",
        "Acknowledgments\n",
        "I used PyCryptodome's documentation for implementing AES in GCM mode and followed general cryptographic best practices.\n",
        "\n",
        "Steps:\n",
        "Install PyCryptodome: Run pip install pycryptodome if you haven't already.\n",
        "Execute the script: This script encrypts a message and then decrypts it, printing both the encrypted and decrypted text for verification."
      ],
      "metadata": {
        "id": "RT6aamefGquZ"
      }
    },
    {
      "cell_type": "code",
      "source": [
        "pip install pycryptodome"
      ],
      "metadata": {
        "colab": {
          "base_uri": "https://localhost:8080/"
        },
        "id": "Nu2BnnAXFHMU",
        "outputId": "69ca06e8-779e-4d6f-99eb-87f3c6766211"
      },
      "execution_count": 2,
      "outputs": [
        {
          "output_type": "stream",
          "name": "stdout",
          "text": [
            "Collecting pycryptodome\n",
            "  Downloading pycryptodome-3.21.0-cp36-abi3-manylinux_2_17_x86_64.manylinux2014_x86_64.whl.metadata (3.4 kB)\n",
            "Downloading pycryptodome-3.21.0-cp36-abi3-manylinux_2_17_x86_64.manylinux2014_x86_64.whl (2.3 MB)\n",
            "\u001b[2K   \u001b[90m━━━━━━━━━━━━━━━━━━━━━━━━━━━━━━━━━━━━━━━━\u001b[0m \u001b[32m2.3/2.3 MB\u001b[0m \u001b[31m21.9 MB/s\u001b[0m eta \u001b[36m0:00:00\u001b[0m\n",
            "\u001b[?25hInstalling collected packages: pycryptodome\n",
            "Successfully installed pycryptodome-3.21.0\n"
          ]
        }
      ]
    },
    {
      "cell_type": "code",
      "execution_count": 4,
      "metadata": {
        "colab": {
          "base_uri": "https://localhost:8080/"
        },
        "id": "F4YxOa2FE47D",
        "outputId": "8f7ac3ec-80c5-4826-efce-0c05f9f783d7"
      },
      "outputs": [
        {
          "output_type": "stream",
          "name": "stdout",
          "text": [
            "Original Text: Hello, this is a secret message.\n",
            "Encrypted: 47a520178046252bc5274eacf574f692cf8c734781a037fae6c7811a0a314a17\n",
            "Decrypted: Hello, this is a secret message.\n"
          ]
        }
      ],
      "source": [
        "# This script demonstrates AES encryption and decryption in GCM mode.\n",
        "# Requirements: PyCryptodome library.\n",
        "# Acknowledgments: PyCryptodome documentation for AES-GCM.\n",
        "\n",
        "from Crypto.Cipher import AES\n",
        "from Crypto.Random import get_random_bytes\n",
        "\n",
        "# Set up the encryption and decryption process\n",
        "def encrypt(plaintext, key):\n",
        "    # Generate a random nonce\n",
        "    nonce = get_random_bytes(12)\n",
        "    cipher = AES.new(key, AES.MODE_GCM, nonce=nonce)\n",
        "    ciphertext, tag = cipher.encrypt_and_digest(plaintext.encode('utf-8'))\n",
        "    return nonce, ciphertext, tag\n",
        "\n",
        "def decrypt(nonce, ciphertext, tag, key):\n",
        "    cipher = AES.new(key, AES.MODE_GCM, nonce=nonce)\n",
        "    try:\n",
        "        # Decrypt and verify the integrity of the ciphertext\n",
        "        plaintext = cipher.decrypt_and_verify(ciphertext, tag)\n",
        "        return plaintext.decode('utf-8')\n",
        "    except ValueError:\n",
        "        return \"Decryption failed or data was tampered with.\"\n",
        "\n",
        "# Example usage\n",
        "if __name__ == \"__main__\":\n",
        "    key = get_random_bytes(16)  # AES-128 key\n",
        "    plaintext = \"Hello, this is a secret message.\"\n",
        "\n",
        "    print(\"Original Text:\", plaintext)\n",
        "\n",
        "    # Encrypt the text\n",
        "    nonce, ciphertext, tag = encrypt(plaintext, key)\n",
        "    print(\"Encrypted:\", ciphertext.hex())\n",
        "\n",
        "    # Decrypt the text\n",
        "    decrypted_text = decrypt(nonce, ciphertext, tag, key)\n",
        "    print(\"Decrypted:\", decrypted_text)\n"
      ]
    }
  ]
}